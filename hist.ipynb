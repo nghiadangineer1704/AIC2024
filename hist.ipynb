{
 "cells": [
  {
   "cell_type": "code",
   "execution_count": 6,
   "metadata": {},
   "outputs": [],
   "source": [
    "import os\n",
    "import cv2\n",
    "from sklearn.metrics.pairwise import cosine_similarity"
   ]
  },
  {
   "cell_type": "code",
   "execution_count": 8,
   "metadata": {},
   "outputs": [],
   "source": [
    "file_name = 'L01_V031.mp4'\n",
    "\n",
    "base_dir = \"key_frames\"\n",
    "\n",
    "folder_name = os.path.splitext(file_name)[0]\n",
    "key_frames_dir = os.path.join(base_dir, folder_name)\n",
    "\n",
    "os.makedirs(key_frames_dir, exist_ok=True)"
   ]
  },
  {
   "cell_type": "code",
   "execution_count": 9,
   "metadata": {},
   "outputs": [],
   "source": [
    "video = cv2.VideoCapture(file_name)"
   ]
  },
  {
   "cell_type": "code",
   "execution_count": 10,
   "metadata": {},
   "outputs": [],
   "source": [
    "if not video.isOpened():\n",
    "    print(\"Error: Could not open video.\")\n",
    "else:\n",
    "    key_frames = []\n",
    "    prev_hist = None\n",
    "    similarity_threshold = 0.9  # Adjust based on your needs\n",
    "    \n",
    "    frame_index = 0\n",
    "    \n",
    "    while True:\n",
    "        # videoture frame-by-frame\n",
    "        ret, frame = video.read()\n",
    "        frame_index += 1\n",
    "        \n",
    "        # If the frame was not retrieved, break the loop\n",
    "        if not ret:\n",
    "            break\n",
    "\n",
    "        # Convert frame to grayscale (optional, depending on feature extraction method)\n",
    "        gray_frame = cv2.cvtColor(frame, cv2.COLOR_BGR2GRAY)\n",
    "\n",
    "        # Calculate histogram\n",
    "        hist = cv2.calcHist([gray_frame], [0], None, [256], [0, 256])\n",
    "        hist = cv2.normalize(hist, hist).flatten()\n",
    "\n",
    "        if prev_hist is not None:\n",
    "            # Calculate similarity (using cosine similarity in this example)\n",
    "            similarity = cosine_similarity([prev_hist], [hist])[0][0]\n",
    "            \n",
    "            # If the similarity is below the threshold, save the frame as a key frame\n",
    "            if similarity < similarity_threshold:\n",
    "                key_frames.append((frame_index, frame))\n",
    "                \n",
    "                # Save the key frame\n",
    "                frame_filename = os.path.join(key_frames_dir, f'key_frame_{frame_index}.jpg')\n",
    "                cv2.imwrite(frame_filename, frame)\n",
    "                \n",
    "        prev_hist = hist\n",
    "\n",
    "    # Release the video videoture object\n",
    "    video.release()\n",
    "    cv2.destroyAllWindows()"
   ]
  }
 ],
 "metadata": {
  "kernelspec": {
   "display_name": "Python 3",
   "language": "python",
   "name": "python3"
  },
  "language_info": {
   "codemirror_mode": {
    "name": "ipython",
    "version": 3
   },
   "file_extension": ".py",
   "mimetype": "text/x-python",
   "name": "python",
   "nbconvert_exporter": "python",
   "pygments_lexer": "ipython3",
   "version": "3.10.14"
  }
 },
 "nbformat": 4,
 "nbformat_minor": 2
}
