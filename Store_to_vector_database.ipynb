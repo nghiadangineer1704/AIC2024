{
 "cells": [
  {
   "cell_type": "code",
   "execution_count": 1,
   "metadata": {},
   "outputs": [],
   "source": [
    "import faiss\n",
    "import numpy as np\n",
    "import os"
   ]
  },
  {
   "cell_type": "code",
   "execution_count": 2,
   "metadata": {},
   "outputs": [],
   "source": [
    "embed_dir = 'clip-vit-B32-features-org'\n",
    "file_index = 'Vector_database.index'"
   ]
  },
  {
   "cell_type": "code",
   "execution_count": 4,
   "metadata": {},
   "outputs": [],
   "source": [
    "def load_embed_vid():\n",
    "    embed = []\n",
    "    filename = []\n",
    "    \n",
    "\n",
    "    for npy in os.listdir(embed_dir):\n",
    "        if npy.endswith('.npy'):\n",
    "            vid = np.load(os.path.join(embed_dir, npy))\n",
    "            embed.append(vid)\n",
    "            filename.append(npy)\n",
    "\n",
    "    return embed, filename"
   ]
  },
  {
   "cell_type": "code",
   "execution_count": 15,
   "metadata": {},
   "outputs": [],
   "source": [
    "def create_faiss(embed):\n",
    "    index = faiss.IndexFlatL2(embed)\n",
    "    return index"
   ]
  },
  {
   "cell_type": "code",
   "execution_count": 16,
   "metadata": {},
   "outputs": [],
   "source": [
    "def store_embed(embed, index):\n",
    "    faiss.normalize_L2(embed)\n",
    "    index.add(embed)"
   ]
  },
  {
   "cell_type": "code",
   "execution_count": 17,
   "metadata": {},
   "outputs": [],
   "source": [
    "embed, filename = load_embed_vid()\n",
    "\n",
    "embeddim = embed[0].shape[1]\n",
    "\n",
    "index = create_faiss(512)\n",
    "\n",
    "allembed = np.vstack(embed)\n",
    "store_embed(allembed, index)\n",
    "\n",
    "faiss.write_index(index, file_index)"
   ]
  },
  {
   "cell_type": "code",
   "execution_count": null,
   "metadata": {},
   "outputs": [],
   "source": []
  }
 ],
 "metadata": {
  "kernelspec": {
   "display_name": "Python 3 (ipykernel)",
   "language": "python",
   "name": "python3"
  },
  "language_info": {
   "codemirror_mode": {
    "name": "ipython",
    "version": 3
   },
   "file_extension": ".py",
   "mimetype": "text/x-python",
   "name": "python",
   "nbconvert_exporter": "python",
   "pygments_lexer": "ipython3",
   "version": "3.10.12"
  }
 },
 "nbformat": 4,
 "nbformat_minor": 2
}
