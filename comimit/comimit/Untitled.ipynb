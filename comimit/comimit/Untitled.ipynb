{
 "cells": [
  {
   "cell_type": "code",
   "execution_count": 6,
   "id": "96272e07-6a3c-476a-b1fe-4b48c189a7db",
   "metadata": {},
   "outputs": [
    {
     "name": "stdout",
     "output_type": "stream",
     "text": [
      "/bin/bash: /home/paultran2734/anaconda3/envs/aigov/lib/libtinfo.so.6: no version information available (required by /bin/bash)\n",
      "Collecting cap_from_youtube\n",
      "  Obtaining dependency information for cap_from_youtube from https://files.pythonhosted.org/packages/0c/9b/742d986c7a5950b139f2f841cc2827778f0e93cc585d64fef5e263469895/cap_from_youtube-0.0.10-py3-none-any.whl.metadata\n",
      "  Downloading cap_from_youtube-0.0.10-py3-none-any.whl.metadata (2.9 kB)\n",
      "Requirement already satisfied: numpy in /home/paultran2734/anaconda3/envs/aigov/lib/python3.11/site-packages (from cap_from_youtube) (1.24.3)\n",
      "Requirement already satisfied: opencv-python in /home/paultran2734/anaconda3/envs/aigov/lib/python3.11/site-packages (from cap_from_youtube) (4.8.0.76)\n",
      "Collecting yt-dlp (from cap_from_youtube)\n",
      "  Obtaining dependency information for yt-dlp from https://files.pythonhosted.org/packages/5c/da/ef08140cea3392288a8f6cd60f6f12510a4c5776eead53e90151f139af19/yt_dlp-2023.7.6-py2.py3-none-any.whl.metadata\n",
      "  Downloading yt_dlp-2023.7.6-py2.py3-none-any.whl.metadata (157 kB)\n",
      "\u001b[2K     \u001b[90m━━━━━━━━━━━━━━━━━━━━━━━━━━━━━━━━━━━━━━━\u001b[0m \u001b[32m158.0/158.0 kB\u001b[0m \u001b[31m2.3 MB/s\u001b[0m eta \u001b[36m0:00:00\u001b[0ma \u001b[36m0:00:01\u001b[0m\n",
      "\u001b[?25hCollecting mutagen (from yt-dlp->cap_from_youtube)\n",
      "  Downloading mutagen-1.46.0-py3-none-any.whl (193 kB)\n",
      "\u001b[2K     \u001b[90m━━━━━━━━━━━━━━━━━━━━━━━━━━━━━━━━━━━━━━\u001b[0m \u001b[32m193.6/193.6 kB\u001b[0m \u001b[31m18.8 MB/s\u001b[0m eta \u001b[36m0:00:00\u001b[0m\n",
      "\u001b[?25hCollecting pycryptodomex (from yt-dlp->cap_from_youtube)\n",
      "  Obtaining dependency information for pycryptodomex from https://files.pythonhosted.org/packages/45/09/ce11344724e674957402b5f3c0d663388f755ecd1c864f0c405b5f959bd8/pycryptodomex-3.18.0-cp35-abi3-manylinux_2_17_x86_64.manylinux2014_x86_64.whl.metadata\n",
      "  Downloading pycryptodomex-3.18.0-cp35-abi3-manylinux_2_17_x86_64.manylinux2014_x86_64.whl.metadata (3.4 kB)\n",
      "Collecting websockets (from yt-dlp->cap_from_youtube)\n",
      "  Downloading websockets-11.0.3-cp311-cp311-manylinux_2_5_x86_64.manylinux1_x86_64.manylinux_2_17_x86_64.manylinux2014_x86_64.whl (130 kB)\n",
      "\u001b[2K     \u001b[90m━━━━━━━━━━━━━━━━━━━━━━━━━━━━━━━━━━━━━━━\u001b[0m \u001b[32m130.6/130.6 kB\u001b[0m \u001b[31m8.1 MB/s\u001b[0m eta \u001b[36m0:00:00\u001b[0m\n",
      "\u001b[?25hRequirement already satisfied: certifi in /home/paultran2734/anaconda3/envs/aigov/lib/python3.11/site-packages (from yt-dlp->cap_from_youtube) (2023.7.22)\n",
      "Collecting brotli (from yt-dlp->cap_from_youtube)\n",
      "  Downloading Brotli-1.0.9-cp311-cp311-manylinux_2_17_x86_64.manylinux2014_x86_64.whl (2.7 MB)\n",
      "\u001b[2K     \u001b[90m━━━━━━━━━━━━━━━━━━━━━━━━━━━━━━━━━━━━━━━━\u001b[0m \u001b[32m2.7/2.7 MB\u001b[0m \u001b[31m11.2 MB/s\u001b[0m eta \u001b[36m0:00:00\u001b[0ma \u001b[36m0:00:01\u001b[0m\n",
      "\u001b[?25hDownloading cap_from_youtube-0.0.10-py3-none-any.whl (3.6 kB)\n",
      "Downloading yt_dlp-2023.7.6-py2.py3-none-any.whl (3.0 MB)\n",
      "\u001b[2K   \u001b[90m━━━━━━━━━━━━━━━━━━━━━━━━━━━━━━━━━━━━━━━━\u001b[0m \u001b[32m3.0/3.0 MB\u001b[0m \u001b[31m11.1 MB/s\u001b[0m eta \u001b[36m0:00:00\u001b[0ma \u001b[36m0:00:01\u001b[0m\n",
      "\u001b[?25hDownloading pycryptodomex-3.18.0-cp35-abi3-manylinux_2_17_x86_64.manylinux2014_x86_64.whl (2.1 MB)\n",
      "\u001b[2K   \u001b[90m━━━━━━━━━━━━━━━━━━━━━━━━━━━━━━━━━━━━━━━━\u001b[0m \u001b[32m2.1/2.1 MB\u001b[0m \u001b[31m11.0 MB/s\u001b[0m eta \u001b[36m0:00:00\u001b[0ma \u001b[36m0:00:01\u001b[0m\n",
      "\u001b[?25hInstalling collected packages: brotli, websockets, pycryptodomex, mutagen, yt-dlp, cap_from_youtube\n",
      "Successfully installed brotli-1.0.9 cap_from_youtube-0.0.10 mutagen-1.46.0 pycryptodomex-3.18.0 websockets-11.0.3 yt-dlp-2023.7.6\n"
     ]
    }
   ],
   "source": [
    "!pip install cap_from_youtube\n"
   ]
  },
  {
   "cell_type": "code",
   "execution_count": 1,
   "id": "cc09ae41-b8f4-4333-bcaa-f4e175bd6175",
   "metadata": {},
   "outputs": [],
   "source": [
    "import cv2 \n",
    "import pafy"
   ]
  },
  {
   "cell_type": "code",
   "execution_count": 16,
   "id": "acdef9cd-8e50-4d3d-b13b-cd753df0ee07",
   "metadata": {},
   "outputs": [
    {
     "name": "stdout",
     "output_type": "stream",
     "text": [
      "[youtube] Extracting URL: https://youtube.com/watch?v=HNsRpkryGXA\n",
      "[youtube] HNsRpkryGXA: Downloading webpage\n",
      "[youtube] HNsRpkryGXA: Downloading ios player API JSON\n",
      "[youtube] HNsRpkryGXA: Downloading android player API JSON\n",
      "[youtube] HNsRpkryGXA: Downloading m3u8 information\n"
     ]
    }
   ],
   "source": [
    "import cv2\n",
    "from cap_from_youtube import cap_from_youtube\n",
    "\n",
    "youtube_url = 'https://youtube.com/watch?v=HNsRpkryGXA'\n",
    "cap = cap_from_youtube(youtube_url, 'best')\n",
    "\n",
    "cv2.namedWindow('video', cv2.WINDOW_NORMAL)\n",
    "while True:\n",
    "    ret, frame = cap.read()\n",
    "    if not ret:\n",
    "        break\n",
    "    cv2.imshow('video', frame)\n",
    "    if cv2.waitKey(1) & 0xFF == ord('q'):\n",
    "        break\n",
    "\n",
    "cap.release()\n",
    "cv2.destroyAllWindows()\n"
   ]
  },
  {
   "cell_type": "code",
   "execution_count": null,
   "id": "342f9610-f664-4eee-9e94-6f5bc3f43779",
   "metadata": {},
   "outputs": [],
   "source": []
  }
 ],
 "metadata": {
  "kernelspec": {
   "display_name": "Python 3 (ipykernel)",
   "language": "python",
   "name": "python3"
  },
  "language_info": {
   "codemirror_mode": {
    "name": "ipython",
    "version": 3
   },
   "file_extension": ".py",
   "mimetype": "text/x-python",
   "name": "python",
   "nbconvert_exporter": "python",
   "pygments_lexer": "ipython3",
   "version": "3.11.4"
  }
 },
 "nbformat": 4,
 "nbformat_minor": 5
}
