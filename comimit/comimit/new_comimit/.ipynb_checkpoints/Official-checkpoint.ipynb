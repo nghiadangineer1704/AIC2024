{
 "cells": [
  {
   "cell_type": "markdown",
   "id": "b180df57-d363-41f1-ba79-ea17792f28f5",
   "metadata": {},
   "source": [
    "# Import dependencies"
   ]
  },
  {
   "cell_type": "code",
   "execution_count": 1,
   "id": "84c0a246-dfee-40dc-97a4-b3fa61ada41b",
   "metadata": {},
   "outputs": [
    {
     "name": "stderr",
     "output_type": "stream",
     "text": [
      "2023-09-15 19:56:33.250026: W tensorflow/compiler/tf2tensorrt/utils/py_utils.cc:38] TF-TRT Warning: Could not find TensorRT\n"
     ]
    }
   ],
   "source": [
    "import numpy as np\n",
    "import pandas as pd\n",
    "import os\n",
    "os.environ['TF_CPP_MIN_LOG_LEVEL'] = '1'\n",
    "import json\n",
    "import faiss\n",
    "import torch\n",
    "import tensorflow as tf\n",
    "\n",
    "from sentence_transformers import SentenceTransformer, util\n",
    "from PIL import Image\n",
    "import torch"
   ]
  },
  {
   "cell_type": "markdown",
   "id": "b7d09fa0-e9d5-4755-9688-a3a6ff6c7581",
   "metadata": {},
   "source": [
    "# Load objects"
   ]
  },
  {
   "cell_type": "code",
   "execution_count": 2,
   "id": "3ee5442b-ee1f-413f-9644-f091f26a0972",
   "metadata": {},
   "outputs": [],
   "source": [
    "pq_frames = faiss.read_index(\"new/frames_new_indexer.index\")\n",
    "pq_videos = faiss.read_index(\"new/video_segment_indexer.index\")"
   ]
  },
  {
   "cell_type": "code",
   "execution_count": 3,
   "id": "354199fd-5653-46a4-b9cd-53534977dca2",
   "metadata": {},
   "outputs": [],
   "source": [
    "df_video = pd.read_parquet(\"new/map_video_segment_new.parquet\")\n",
    "df_frame = pd.read_parquet(\"new/map_org_all.parquet\")"
   ]
  },
  {
   "cell_type": "code",
   "execution_count": 4,
   "id": "fcf7e59b-df46-4fa0-8d2d-b4252acf4c76",
   "metadata": {},
   "outputs": [],
   "source": [
    "#Load CLIP model\n",
    "device = torch.device(\"cuda\" if torch.cuda.is_available() else \"cpu\")\n",
    "#Encode an image:\n",
    "img_model = SentenceTransformer('clip-ViT-B-16').to(device)"
   ]
  },
  {
   "cell_type": "markdown",
   "id": "d9ec7184-872b-490f-adc4-6099dc766d38",
   "metadata": {},
   "source": [
    "# Query engine "
   ]
  },
  {
   "cell_type": "code",
   "execution_count": 66,
   "id": "5b413df6-c6ff-4bb5-bbe0-3aa5cd8117ac",
   "metadata": {},
   "outputs": [],
   "source": [
    "def search_video_segment(text_query):\n",
    "    text_emb = img_model.encode([text_query])\n",
    "    input = text_emb\n",
    "    faiss.normalize_L2(input)\n",
    "    D,I = pq_videos.search(input,10000)\n",
    "    return df_video.iloc[I[0]].reset_index()\n",
    "\n",
    "def search_frame(text_query):\n",
    "    text_emb = img_model.encode([text_query])\n",
    "    input = text_emb\n",
    "    faiss.normalize_L2(input)\n",
    "    D,I = pq_frames.search(input,10000)\n",
    "    return df_frame.iloc[I[0]].reset_index()"
   ]
  },
  {
   "cell_type": "code",
   "execution_count": 134,
   "id": "92c34a8f-6367-43e1-a0a5-55ad0b2dca1a",
   "metadata": {},
   "outputs": [],
   "source": [
    "if not os.path.exists(\"submission/\"):\n",
    "    os.mkdir(\"submission/\")\n",
    "\n",
    "\n",
    "text_query = \"Video of a school of fish forming a heart shape and then swimming in tandem. The next scene is of some people assisting these fish back out to sea.\"\n",
    "\n",
    "\n",
    "a = search_video_segment(text_query)\n",
    "a[\"old\"] = a[\"start\"]*3//25\n",
    "a[\"frame idx\"] = (a[\"end\"] + a[\"start\"])//2\n",
    "a.head(100)[[\"Names\",\"frame idx\"]].to_csv(\"submission/query-5.csv\",index=False,header=False)"
   ]
  },
  {
   "cell_type": "code",
   "execution_count": 135,
   "id": "7e3f57b3-1c0b-4db5-adb9-1ebe8bec1bc2",
   "metadata": {},
   "outputs": [
    {
     "data": {
      "text/html": [
       "<div>\n",
       "<style scoped>\n",
       "    .dataframe tbody tr th:only-of-type {\n",
       "        vertical-align: middle;\n",
       "    }\n",
       "\n",
       "    .dataframe tbody tr th {\n",
       "        vertical-align: top;\n",
       "    }\n",
       "\n",
       "    .dataframe thead th {\n",
       "        text-align: right;\n",
       "    }\n",
       "</style>\n",
       "<table border=\"1\" class=\"dataframe\">\n",
       "  <thead>\n",
       "    <tr style=\"text-align: right;\">\n",
       "      <th></th>\n",
       "      <th>Names</th>\n",
       "      <th>frame idx</th>\n",
       "    </tr>\n",
       "  </thead>\n",
       "  <tbody>\n",
       "    <tr>\n",
       "      <th>0</th>\n",
       "      <td>L16_V028</td>\n",
       "      <td>12200</td>\n",
       "    </tr>\n",
       "    <tr>\n",
       "      <th>1</th>\n",
       "      <td>L09_V007</td>\n",
       "      <td>11400</td>\n",
       "    </tr>\n",
       "    <tr>\n",
       "      <th>2</th>\n",
       "      <td>L20_V032</td>\n",
       "      <td>18600</td>\n",
       "    </tr>\n",
       "    <tr>\n",
       "      <th>3</th>\n",
       "      <td>L08_V021</td>\n",
       "      <td>1800</td>\n",
       "    </tr>\n",
       "    <tr>\n",
       "      <th>4</th>\n",
       "      <td>L20_V032</td>\n",
       "      <td>17800</td>\n",
       "    </tr>\n",
       "    <tr>\n",
       "      <th>5</th>\n",
       "      <td>L20_V042</td>\n",
       "      <td>8600</td>\n",
       "    </tr>\n",
       "    <tr>\n",
       "      <th>6</th>\n",
       "      <td>L11_V019</td>\n",
       "      <td>21000</td>\n",
       "    </tr>\n",
       "    <tr>\n",
       "      <th>7</th>\n",
       "      <td>L20_V002</td>\n",
       "      <td>15800</td>\n",
       "    </tr>\n",
       "    <tr>\n",
       "      <th>8</th>\n",
       "      <td>L20_V042</td>\n",
       "      <td>9000</td>\n",
       "    </tr>\n",
       "    <tr>\n",
       "      <th>9</th>\n",
       "      <td>L20_V038</td>\n",
       "      <td>4200</td>\n",
       "    </tr>\n",
       "    <tr>\n",
       "      <th>10</th>\n",
       "      <td>L20_V019</td>\n",
       "      <td>22200</td>\n",
       "    </tr>\n",
       "    <tr>\n",
       "      <th>11</th>\n",
       "      <td>L20_V038</td>\n",
       "      <td>5000</td>\n",
       "    </tr>\n",
       "    <tr>\n",
       "      <th>12</th>\n",
       "      <td>L20_V042</td>\n",
       "      <td>8200</td>\n",
       "    </tr>\n",
       "    <tr>\n",
       "      <th>13</th>\n",
       "      <td>L12_V008</td>\n",
       "      <td>5000</td>\n",
       "    </tr>\n",
       "    <tr>\n",
       "      <th>14</th>\n",
       "      <td>L12_V006</td>\n",
       "      <td>6200</td>\n",
       "    </tr>\n",
       "    <tr>\n",
       "      <th>15</th>\n",
       "      <td>L08_V022</td>\n",
       "      <td>13800</td>\n",
       "    </tr>\n",
       "    <tr>\n",
       "      <th>16</th>\n",
       "      <td>L19_V090</td>\n",
       "      <td>7400</td>\n",
       "    </tr>\n",
       "    <tr>\n",
       "      <th>17</th>\n",
       "      <td>L02_V003</td>\n",
       "      <td>15400</td>\n",
       "    </tr>\n",
       "    <tr>\n",
       "      <th>18</th>\n",
       "      <td>L12_V006</td>\n",
       "      <td>5800</td>\n",
       "    </tr>\n",
       "    <tr>\n",
       "      <th>19</th>\n",
       "      <td>L12_V015</td>\n",
       "      <td>7400</td>\n",
       "    </tr>\n",
       "  </tbody>\n",
       "</table>\n",
       "</div>"
      ],
      "text/plain": [
       "       Names  frame idx\n",
       "0   L16_V028      12200\n",
       "1   L09_V007      11400\n",
       "2   L20_V032      18600\n",
       "3   L08_V021       1800\n",
       "4   L20_V032      17800\n",
       "5   L20_V042       8600\n",
       "6   L11_V019      21000\n",
       "7   L20_V002      15800\n",
       "8   L20_V042       9000\n",
       "9   L20_V038       4200\n",
       "10  L20_V019      22200\n",
       "11  L20_V038       5000\n",
       "12  L20_V042       8200\n",
       "13  L12_V008       5000\n",
       "14  L12_V006       6200\n",
       "15  L08_V022      13800\n",
       "16  L19_V090       7400\n",
       "17  L02_V003      15400\n",
       "18  L12_V006       5800\n",
       "19  L12_V015       7400"
      ]
     },
     "execution_count": 135,
     "metadata": {},
     "output_type": "execute_result"
    }
   ],
   "source": [
    "a.head(100)[[\"Names\",\"frame idx\"]].head(20).reset_index(drop=True)"
   ]
  },
  {
   "cell_type": "code",
   "execution_count": null,
   "id": "2c831883-05ae-4c84-b660-761b8c457c2b",
   "metadata": {},
   "outputs": [],
   "source": []
  }
 ],
 "metadata": {
  "kernelspec": {
   "display_name": "Python 3 (ipykernel)",
   "language": "python",
   "name": "python3"
  },
  "language_info": {
   "codemirror_mode": {
    "name": "ipython",
    "version": 3
   },
   "file_extension": ".py",
   "mimetype": "text/x-python",
   "name": "python",
   "nbconvert_exporter": "python",
   "pygments_lexer": "ipython3",
   "version": "3.11.4"
  }
 },
 "nbformat": 4,
 "nbformat_minor": 5
}
